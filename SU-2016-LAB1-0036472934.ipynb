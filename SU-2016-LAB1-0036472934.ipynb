{
 "cells": [
  {
   "cell_type": "markdown",
   "metadata": {},
   "source": [
    "Sveučilište u Zagrebu<br>\n",
    "Fakultet elektrotehnike i računarstva\n",
    "\n",
    "## Strojno učenje 2016./2017.\n",
    "\n",
    "<a href=\"http://www.fer.unizg.hr/predmet/su\">http://www.fer.unizg.hr/predmet/su</a>"
   ]
  },
  {
   "cell_type": "markdown",
   "metadata": {},
   "source": [
    "### Laboratorijska vježba 1: Regresija\n",
    "\n",
    "(c) 2015-2016 Jan Šnajder, Domagoj Alagić i Mladen Karan\n",
    "\n",
    "<i>Verzija: 0.2</i> <br/>\n",
    "<i>Zadnji put ažurirano: 11. listopada 2016.</i> "
   ]
  },
  {
   "cell_type": "markdown",
   "metadata": {},
   "source": [
    "Objavljeno: **12. listopada 2016.**<br>\n",
    "Rok za predaju: U terminu vježbe u tjednu od **17. listopada 2016.**"
   ]
  },
  {
   "cell_type": "markdown",
   "metadata": {},
   "source": [
    "### Upute\n",
    "\n",
    "Prva laboratorijska vježba sastoji se od **sedam** zadataka. Kako bi kvalitetnije, ali i na manje zamoran način usvojili gradivo ovog kolegija, potrudili smo se uključiti tri vrste zadataka: **1)** implementacija manjih algoritama, modela ili postupaka; **2)** eksperimenti s raznim modelima te njihovim hiperparametrima, te **3)** primjena modela na (stvarnim) podatcima. Ovim zadatcima pokrivamo dvije paradigme učenja: učenje izgradnjom (engl. *learning by building*) i učenje eksperimentiranjem (engl. *learning by experimenting*).\n",
    "\n",
    "U nastavku slijedite upute navedene u ćelijama s tekstom. Rješavanje vježbe svodi se na **dopunjavanje ove bilježnice**: umetanja ćelije ili više njih **ispod** teksta zadatka, pisanja odgovarajućeg kôda te evaluiranja ćelija. \n",
    "\n",
    "Osigurajte da u potpunosti **razumijete** kôd koji ste napisali. Kod predaje vježbe, morate biti u stanju na zahtjev asistenta (ili demonstratora) preinačiti i ponovno evaluirati Vaš kôd. Nadalje, morate razumjeti teorijske osnove onoga što radite, u okvirima onoga što smo obradili na predavanju. Ispod nekih zadataka možete naći i pitanja koja služe kao smjernice za bolje razumijevanje gradiva (**nemojte pisati** odgovore na pitanja u bilježnicu). Stoga se nemojte ograničiti samo na to da riješite zadatak, nego slobodno eksperimentirajte. To upravo i jest svrha ovih vježbi.\n",
    "\n",
    "Vježbe trebate raditi **samostalno**. Možete se konzultirati s drugima o načelnom načinu rješavanja, ali u konačnici morate sami odraditi vježbu. U protivnome vježba nema smisla."
   ]
  },
  {
   "cell_type": "code",
   "execution_count": 2,
   "metadata": {
    "collapsed": false
   },
   "outputs": [
    {
     "name": "stdout",
     "output_type": "stream",
     "text": [
      "Populating the interactive namespace from numpy and matplotlib\n"
     ]
    }
   ],
   "source": [
    "# Učitaj osnovne biblioteke...\n",
    "import numpy as np\n",
    "import scipy as sp\n",
    "import sklearn\n",
    "import matplotlib.pyplot as plt\n",
    "%pylab inline"
   ]
  },
  {
   "cell_type": "markdown",
   "metadata": {},
   "source": [
    "## Zadatci"
   ]
  },
  {
   "cell_type": "markdown",
   "metadata": {},
   "source": [
    "### 1. Univarijatna regresija"
   ]
  },
  {
   "cell_type": "markdown",
   "metadata": {},
   "source": [
    "Zadan je skup primjera $\\mathcal{D}=\\{(x^{(i)},y^{(i)})\\}_{i=1}^4 = \\{(0,4),(1,1),(2,2),(4,5)\\}$. Primjere predstavite matrixom $\\mathbf{X}$ dimenzija $N\\times n$ (u ovom slučaju $4\\times 1$) i vektorom oznaka $\\textbf{y}$, dimenzija $N\\times 1$ (u ovom slučaju $4\\times 1$), na sljedeći način:\n"
   ]
  },
  {
   "cell_type": "code",
   "execution_count": 3,
   "metadata": {
    "collapsed": false
   },
   "outputs": [],
   "source": [
    "X = np.array([[0],[1],[2],[4]])\n",
    "y = np.array([4,1,2,5])"
   ]
  },
  {
   "cell_type": "code",
   "execution_count": 4,
   "metadata": {
    "collapsed": false
   },
   "outputs": [
    {
     "name": "stdout",
     "output_type": "stream",
     "text": [
      "[[0]\n",
      " [1]\n",
      " [2]\n",
      " [4]]\n",
      "[4 1 2 5]\n"
     ]
    },
    {
     "data": {
      "image/png": "[encoded data removed]",
      "text/plain": [
       "<matplotlib.figure.Figure at 0x103929290>"
      ]
     },
     "metadata": {},
     "output_type": "display_data"
    }
   ],
   "source": [
    "print X;\n",
    "print y;\n",
    "plt.scatter(X,y)\n",
    "plt.show()"
   ]
  },
  {
   "cell_type": "markdown",
   "metadata": {},
   "source": [
    "### (a)\n",
    "\n",
    "Proučite funkciju [`PolynomialFeatures`](http://scikit-learn.org/stable/modules/generated/sklearn.preprocessing.PolynomialFeatures.html) iz biblioteke `sklearn` i upotrijebite je za generiranje dizajn-matrice $\\mathbf{\\Phi}$ koja ne koristi preslikavanje u prostor više dimenzije (samo će svakom primjeru biti dodane *dummy* jedinice; $m=n+1$).\n"
   ]
  },
  {
   "cell_type": "code",
   "execution_count": 5,
   "metadata": {
    "collapsed": false
   },
   "outputs": [
    {
     "name": "stdout",
     "output_type": "stream",
     "text": [
      "PolynomialFeatures(degree=1, include_bias=True, interaction_only=False)\n",
      "[[ 1.  0.]\n",
      " [ 1.  1.]\n",
      " [ 1.  2.]\n",
      " [ 1.  4.]]\n"
     ]
    }
   ],
   "source": [
    "# Vaš kôd ovdje...\n",
    "from sklearn.preprocessing import PolynomialFeatures\n",
    "poly = PolynomialFeatures(1)\n",
    "print poly\n",
    "fi = poly.fit_transform(X)\n",
    "print fi"
   ]
  },
  {
   "cell_type": "code",
   "execution_count": 6,
   "metadata": {
    "collapsed": false
   },
   "outputs": [
    {
     "name": "stdout",
     "output_type": "stream",
     "text": [
      "[[ 1.  1.  1.  1.]\n",
      " [ 0.  1.  2.  4.]]\n"
     ]
    }
   ],
   "source": [
    "print fi.T"
   ]
  },
  {
   "cell_type": "markdown",
   "metadata": {},
   "source": [
    "### (b)"
   ]
  },
  {
   "cell_type": "markdown",
   "metadata": {},
   "source": [
    "Upoznajte se s modulom [`linalg`](http://docs.scipy.org/doc/numpy/reference/routines.linalg.html). Izračunajte težine $\\mathbf{w}$ modela linearne regresije kao $\\mathbf{w}=(\\mathbf{\\Phi}^\\intercal\\mathbf{\\Phi})^{-1}\\mathbf{\\Phi}^\\intercal\\mathbf{y}$. Zatim se uvjerite da isti rezultat možete dobiti izračunom pseudoinverza $\\mathbf{\\Phi}^+$ dizajn-matrice, tj. $\\mathbf{w}=\\mathbf{\\Phi}^+\\mathbf{y}$, korištenjem funkcije [`pinv`](http://docs.scipy.org/doc/numpy/reference/generated/numpy.linalg.pinv.html)."
   ]
  },
  {
   "cell_type": "code",
   "execution_count": 7,
   "metadata": {
    "collapsed": true
   },
   "outputs": [],
   "source": [
    "from numpy import linalg"
   ]
  },
  {
   "cell_type": "code",
   "execution_count": 8,
   "metadata": {
    "collapsed": false
   },
   "outputs": [
    {
     "name": "stdout",
     "output_type": "stream",
     "text": [
      "[ 2.2         0.45714286]\n"
     ]
    }
   ],
   "source": [
    "# Vaš kôd ovdje...\n",
    "w = dot(fi.T,fi)\n",
    "w = inv(w)\n",
    "w = dot(w,fi.T)\n",
    "w = dot(w,y)\n",
    "#w = dot(dot(inv(dot(fi.T,fi)),fi.T),y)\n",
    "print w"
   ]
  },
  {
   "cell_type": "code",
   "execution_count": 9,
   "metadata": {
    "collapsed": false
   },
   "outputs": [
    {
     "name": "stdout",
     "output_type": "stream",
     "text": [
      "[ 2.2         0.45714286]\n"
     ]
    }
   ],
   "source": [
    "W = dot(pinv(fi),y);\n",
    "print W\n"
   ]
  },
  {
   "cell_type": "markdown",
   "metadata": {},
   "source": [
    "# Radi jasnoće, u nastavku je vektor $\\mathbf{x}$ s dodanom *dummy* jedinicom $x_0=1$ označen kao $\\tilde{\\mathbf{x}}$."
   ]
  },
  {
   "cell_type": "markdown",
   "metadata": {},
   "source": [
    "### (c)"
   ]
  },
  {
   "cell_type": "markdown",
   "metadata": {},
   "source": [
    "Prikažite primjere iz $\\mathcal{D}$ i funkciju $h(\\tilde{\\mathbf{x}})=\\mathbf{w}^\\intercal\\tilde{\\mathbf{x}}$. Izračunajte pogrešku učenja prema izrazu $E(h|\\mathcal{D})=\\frac{1}{2}\\sum_{i=1}^N(\\tilde{\\mathbf{x}}^{(i)} - h(\\tilde{\\mathbf{x}}))^2$. Možete koristiti funkciju srednje kvadratne pogreške [`mean_squared_error`]( http://scikit-learn.org/stable/modules/generated/sklearn.metrics.mean_squared_error.html#sklearn.metrics.mean_squared_error) iz modula [`sklearn.metrics`](http://scikit-learn.org/stable/modules/classes.html#module-sklearn.metrics).\n",
    "\n",
    "**Q:** Gore definirana funkcija pogreške $E(h|\\mathcal{D})$ i funkcija srednje kvadratne pogreške nisu posve identične. U čemu je razlika? Koja je \"realnija\"?"
   ]
  },
  {
   "cell_type": "code",
   "execution_count": 10,
   "metadata": {
    "collapsed": false
   },
   "outputs": [
    {
     "data": {
      "image/png": "[encoded data removed]",
      "text/plain": [
       "<matplotlib.figure.Figure at 0x110f77310>"
      ]
     },
     "metadata": {},
     "output_type": "display_data"
    },
    {
     "name": "stdout",
     "output_type": "stream",
     "text": [
      "2.04285714286\n"
     ]
    }
   ],
   "source": [
    "# Vaš kôd ovdje...\n",
    "from sklearn import metrics\n",
    "plt.scatter(X,y,color=\"r\")\n",
    "plt.scatter(X,dot(w,fi.T))\n",
    "plt.show()\n",
    "e = sklearn.metrics.mean_squared_error(y,dot(w,fi.T))\n",
    "print e"
   ]
  },
  {
   "cell_type": "markdown",
   "metadata": {},
   "source": [
    "### (d)"
   ]
  },
  {
   "cell_type": "markdown",
   "metadata": {},
   "source": [
    "Uvjerite se da za primjere iz $\\mathcal{D}$ težine $\\mathbf{w}$ ne možemo naći rješavanjem sustava $\\mathbf{w}=\\mathbf{\\Phi}^{-1}\\mathbf{y}$, već da nam doista treba pseudoinverz.\n",
    "\n",
    "**Q:** Zašto je to slučaj? Bi li se problem mogao riješiti preslikavanjem primjera u višu dimenziju? Ako da, bi li to uvijek funkcioniralo, neovisno o skupu primjera $\\mathcal{D}$? Pokažite na primjeru."
   ]
  },
  {
   "cell_type": "code",
   "execution_count": 11,
   "metadata": {
    "collapsed": false
   },
   "outputs": [
    {
     "ename": "LinAlgError",
     "evalue": "Last 2 dimensions of the array must be square",
     "output_type": "error",
     "traceback": [
      "\u001b[0;31m---------------------------------------------------------------------------\u001b[0m",
      "\u001b[0;31mLinAlgError\u001b[0m                               Traceback (most recent call last)",
      "\u001b[0;32m<ipython-input-11-0611e7f7adce>\u001b[0m in \u001b[0;36m<module>\u001b[0;34m()\u001b[0m\n\u001b[1;32m      1\u001b[0m \u001b[0;31m# Vaš kôd ovdje...\u001b[0m\u001b[0;34m\u001b[0m\u001b[0;34m\u001b[0m\u001b[0m\n\u001b[0;32m----> 2\u001b[0;31m \u001b[0mw_test\u001b[0m \u001b[0;34m=\u001b[0m \u001b[0mdot\u001b[0m\u001b[0;34m(\u001b[0m\u001b[0minv\u001b[0m\u001b[0;34m(\u001b[0m\u001b[0mfi\u001b[0m\u001b[0;34m)\u001b[0m\u001b[0;34m,\u001b[0m\u001b[0my\u001b[0m\u001b[0;34m)\u001b[0m\u001b[0;34m\u001b[0m\u001b[0m\n\u001b[0m\u001b[1;32m      3\u001b[0m \u001b[0;32mprint\u001b[0m \u001b[0mw_test\u001b[0m\u001b[0;34m\u001b[0m\u001b[0m\n",
      "\u001b[0;32m/Users/marinkostic/anaconda2/lib/python2.7/site-packages/numpy/linalg/linalg.pyc\u001b[0m in \u001b[0;36minv\u001b[0;34m(a)\u001b[0m\n\u001b[1;32m    515\u001b[0m     \u001b[0ma\u001b[0m\u001b[0;34m,\u001b[0m \u001b[0mwrap\u001b[0m \u001b[0;34m=\u001b[0m \u001b[0m_makearray\u001b[0m\u001b[0;34m(\u001b[0m\u001b[0ma\u001b[0m\u001b[0;34m)\u001b[0m\u001b[0;34m\u001b[0m\u001b[0m\n\u001b[1;32m    516\u001b[0m     \u001b[0m_assertRankAtLeast2\u001b[0m\u001b[0;34m(\u001b[0m\u001b[0ma\u001b[0m\u001b[0;34m)\u001b[0m\u001b[0;34m\u001b[0m\u001b[0m\n\u001b[0;32m--> 517\u001b[0;31m     \u001b[0m_assertNdSquareness\u001b[0m\u001b[0;34m(\u001b[0m\u001b[0ma\u001b[0m\u001b[0;34m)\u001b[0m\u001b[0;34m\u001b[0m\u001b[0m\n\u001b[0m\u001b[1;32m    518\u001b[0m     \u001b[0mt\u001b[0m\u001b[0;34m,\u001b[0m \u001b[0mresult_t\u001b[0m \u001b[0;34m=\u001b[0m \u001b[0m_commonType\u001b[0m\u001b[0;34m(\u001b[0m\u001b[0ma\u001b[0m\u001b[0;34m)\u001b[0m\u001b[0;34m\u001b[0m\u001b[0m\n\u001b[1;32m    519\u001b[0m \u001b[0;34m\u001b[0m\u001b[0m\n",
      "\u001b[0;32m/Users/marinkostic/anaconda2/lib/python2.7/site-packages/numpy/linalg/linalg.pyc\u001b[0m in \u001b[0;36m_assertNdSquareness\u001b[0;34m(*arrays)\u001b[0m\n\u001b[1;32m    210\u001b[0m     \u001b[0;32mfor\u001b[0m \u001b[0ma\u001b[0m \u001b[0;32min\u001b[0m \u001b[0marrays\u001b[0m\u001b[0;34m:\u001b[0m\u001b[0;34m\u001b[0m\u001b[0m\n\u001b[1;32m    211\u001b[0m         \u001b[0;32mif\u001b[0m \u001b[0mmax\u001b[0m\u001b[0;34m(\u001b[0m\u001b[0ma\u001b[0m\u001b[0;34m.\u001b[0m\u001b[0mshape\u001b[0m\u001b[0;34m[\u001b[0m\u001b[0;34m-\u001b[0m\u001b[0;36m2\u001b[0m\u001b[0;34m:\u001b[0m\u001b[0;34m]\u001b[0m\u001b[0;34m)\u001b[0m \u001b[0;34m!=\u001b[0m \u001b[0mmin\u001b[0m\u001b[0;34m(\u001b[0m\u001b[0ma\u001b[0m\u001b[0;34m.\u001b[0m\u001b[0mshape\u001b[0m\u001b[0;34m[\u001b[0m\u001b[0;34m-\u001b[0m\u001b[0;36m2\u001b[0m\u001b[0;34m:\u001b[0m\u001b[0;34m]\u001b[0m\u001b[0;34m)\u001b[0m\u001b[0;34m:\u001b[0m\u001b[0;34m\u001b[0m\u001b[0m\n\u001b[0;32m--> 212\u001b[0;31m             \u001b[0;32mraise\u001b[0m \u001b[0mLinAlgError\u001b[0m\u001b[0;34m(\u001b[0m\u001b[0;34m'Last 2 dimensions of the array must be square'\u001b[0m\u001b[0;34m)\u001b[0m\u001b[0;34m\u001b[0m\u001b[0m\n\u001b[0m\u001b[1;32m    213\u001b[0m \u001b[0;34m\u001b[0m\u001b[0m\n\u001b[1;32m    214\u001b[0m \u001b[0;32mdef\u001b[0m \u001b[0m_assertFinite\u001b[0m\u001b[0;34m(\u001b[0m\u001b[0;34m*\u001b[0m\u001b[0marrays\u001b[0m\u001b[0;34m)\u001b[0m\u001b[0;34m:\u001b[0m\u001b[0;34m\u001b[0m\u001b[0m\n",
      "\u001b[0;31mLinAlgError\u001b[0m: Last 2 dimensions of the array must be square"
     ]
    }
   ],
   "source": [
    "# Vaš kôd ovdje...\n",
    "w_test = dot(inv(fi),y)\n",
    "print w_test"
   ]
  },
  {
   "cell_type": "markdown",
   "metadata": {},
   "source": [
    "### (e) "
   ]
  },
  {
   "cell_type": "markdown",
   "metadata": {},
   "source": [
    "Proučite klasu [`LinearRegression`](http://scikit-learn.org/stable/modules/generated/sklearn.linear_model.LinearRegression.html#sklearn.linear_model.LinearRegression) iz modula [`sklearn.linear_model`](http://scikit-learn.org/stable/modules/classes.html#module-sklearn.linear_model). Uvjerite se da su težine koje izračunava ta funkcija (dostupne pomoću atributa `coef_` i `intercept_`) jednake onima koje ste izračunali gore. Izračunajte predikcije modela (metoda `predict`) i uvjerite se da je pogreška učenja identična onoj koju ste ranije izračunali."
   ]
  },
  {
   "cell_type": "code",
   "execution_count": 12,
   "metadata": {
    "collapsed": false
   },
   "outputs": [],
   "source": [
    "from sklearn.linear_model import LinearRegression"
   ]
  },
  {
   "cell_type": "code",
   "execution_count": 13,
   "metadata": {
    "collapsed": false
   },
   "outputs": [
    {
     "name": "stdout",
     "output_type": "stream",
     "text": [
      "[ 2.2         0.45714286]\n"
     ]
    }
   ],
   "source": [
    "# Vaš kôd ovdje...\n",
    "linreg = LinearRegression()\n",
    "linreg.fit(X,y)\n",
    "wlinreg = array ([linreg.intercept_, linreg.coef_])\n",
    "print wlinreg"
   ]
  },
  {
   "cell_type": "code",
   "execution_count": 14,
   "metadata": {
    "collapsed": false
   },
   "outputs": [
    {
     "data": {
      "image/png": "[encoded data removed]",
      "text/plain": [
       "<matplotlib.figure.Figure at 0x111905250>"
      ]
     },
     "metadata": {},
     "output_type": "display_data"
    },
    {
     "data": {
      "text/plain": [
       "2.0428571428571431"
      ]
     },
     "execution_count": 14,
     "metadata": {},
     "output_type": "execute_result"
    }
   ],
   "source": [
    "#xspace = np.linspace(0,5,1000)\n",
    "#xspace = np.array(xspace)[np.newaxis]\n",
    "#print xspace.T\n",
    "#plt.scatter(xspace.T,dot(W,poly.fit_transform(xspace.T).T))\n",
    "plt.scatter(X,dot(W,poly.fit_transform(X).T))\n",
    "plt.scatter(X,y,color=\"r\")\n",
    "plt.show()\n",
    "np.mean((linreg.predict(X)-y)**2)"
   ]
  },
  {
   "cell_type": "markdown",
   "metadata": {},
   "source": [
    "### 2. Polinomijalna regresija i utjecaj šuma"
   ]
  },
  {
   "cell_type": "markdown",
   "metadata": {},
   "source": [
    "### (a)\n",
    "\n",
    "Razmotrimo sada regresiju na većem broju primjera. Definirajte funkciju `make_labels(X, f, noise=0)` koja uzima matricu neoznačenih primjera $\\mathbf{X}_{N\\times n}$ te generira vektor njihovih oznaka $\\mathbf{y}_{N\\times 1}$. Oznake se generiraju kao $y^{(i)} = f(x^{(i)})+\\mathcal{N}(0,\\sigma^2)$, gdje je $f:\\mathbb{R}^n\\to\\mathbb{R}$ stvarna funkcija koja je generirala podatke (koja nam je u stvarnosti nepoznata), a $\\sigma$ je standardna devijacija Gaussovog šuma, definirana parametrom `noise`. Za generiranje šuma možete koristiti funkciju [`numpy.random.normal`](http://docs.scipy.org/doc/numpy/reference/generated/numpy.random.normal.html). \n",
    "\n",
    "Generirajte skup za učenje od $N=50$ primjera uniformno distribuiranih u intervalu $[-5,5]$ pomoću funkcije $f(x) = 5 + x -2 x^2 -5 x^3$ uz šum  $\\sigma=200$:"
   ]
  },
  {
   "cell_type": "code",
   "execution_count": 15,
   "metadata": {
    "collapsed": false
   },
   "outputs": [],
   "source": [
    "from numpy.random import normal"
   ]
  },
  {
   "cell_type": "code",
   "execution_count": 16,
   "metadata": {
    "collapsed": false
   },
   "outputs": [
    {
     "name": "stdout",
     "output_type": "stream",
     "text": [
      "[  -1.  -41. -145.]\n"
     ]
    }
   ],
   "source": [
    "def funkcija(x):\n",
    "    f=np.array([])\n",
    "    for elem in x:\n",
    "        f = np.append(f,5+elem-2*elem**2-5*elem**3)\n",
    "    return f\n",
    "z = np.array([1,2,3])\n",
    "z = funkcija(z)\n",
    "print z"
   ]
  },
  {
   "cell_type": "code",
   "execution_count": 17,
   "metadata": {
    "collapsed": false
   },
   "outputs": [
    {
     "name": "stdout",
     "output_type": "stream",
     "text": [
      "[ -1.46215298e+02   3.41059865e+05   1.52012057e+07]\n"
     ]
    }
   ],
   "source": [
    "def make_labels(X, f=np.array([]), noise=0) :\n",
    "    # Vaš kôd ovdje...\n",
    "    f = funkcija(X)\n",
    "    x = np.array([])\n",
    "    for el in f :\n",
    "         x = np.append(x,el + np.random.normal(loc=0,scale=noise))\n",
    "    return x\n",
    "print make_labels(z,noise=200)"
   ]
  },
  {
   "cell_type": "code",
   "execution_count": 18,
   "metadata": {
    "collapsed": false
   },
   "outputs": [
    {
     "data": {
      "image/png": "[encoded data removed]",
      "text/plain": [
       "<matplotlib.figure.Figure at 0x1118f9f10>"
      ]
     },
     "metadata": {},
     "output_type": "display_data"
    }
   ],
   "source": [
    "\n",
    "# Vaš kôd ovdje...\n",
    "x_i = np.linspace(-5,5,50)\n",
    "y_i = make_labels(x_i,noise=200)\n",
    "#print x_s\n",
    "#print f_x\n",
    "plt.scatter(x_i,funkcija(x_i))\n",
    "plt.scatter(x_i,y_i,color=\"r\")\n",
    "plt.show()"
   ]
  },
  {
   "cell_type": "markdown",
   "metadata": {},
   "source": [
    "Prikažite taj skup funkcijom [`scatter`](http://matplotlib.org/api/pyplot_api.html#matplotlib.pyplot.scatter)."
   ]
  },
  {
   "cell_type": "markdown",
   "metadata": {},
   "source": [
    "### (b)"
   ]
  },
  {
   "cell_type": "markdown",
   "metadata": {},
   "source": [
    "Trenirajte model polinomijalne regresije stupnja $d=3$. Na istom grafikonu prikažite naučeni model $h(\\mathbf{x})=\\mathbf{w}^\\intercal\\tilde{\\mathbf{x}}$ i primjere za učenje. Izračunajte pogrešku učenja modela."
   ]
  },
  {
   "cell_type": "code",
   "execution_count": 19,
   "metadata": {
    "collapsed": true
   },
   "outputs": [],
   "source": [
    "x_i = np.array(x_i)[np.newaxis]\n",
    "#y_i = np.array(y_i)[np.newaxis]"
   ]
  },
  {
   "cell_type": "code",
   "execution_count": 20,
   "metadata": {
    "collapsed": false
   },
   "outputs": [
    {
     "name": "stdout",
     "output_type": "stream",
     "text": [
      "[ 578.38115863  705.79699229  381.01293928  216.02302236  549.04814179\n",
      "  287.40219557  283.43017977  435.05708411  276.6746104   -61.8331911\n",
      "  254.43357167 -149.112873   -125.64316134   17.78141884   77.5240186\n",
      "  527.62895548  -83.17936085 -254.5616671   -48.37605191  102.84276527\n",
      "  -55.92093922  -70.0355902   -96.50244137  446.55050438  122.27980102\n",
      "  378.12429656 -516.97112524    1.52381978  -66.73376883   65.97378108\n",
      "   67.23072682  256.26474007 -300.94197818   40.47411901  209.25676743\n",
      "  -37.02187665  172.75037995 -230.68923779 -200.0848407  -135.84352929\n",
      " -621.97043073   83.74456033 -279.89876914 -271.30628578 -391.68014322\n",
      " -546.86641987 -285.83594399 -227.3315805  -536.43455564 -670.05089643]\n",
      "[ 11.05307287   1.1591484   -0.64626907  -4.98210312]\n"
     ]
    }
   ],
   "source": [
    "# Vaš kôd ovdje...\n",
    "#print x_i.T\n",
    "print y_i\n",
    "poly = PolynomialFeatures(3)\n",
    "fi = poly.fit_transform(x_i.T)\n",
    "#print fi\n",
    "w = dot(pinv(fi),y_i)\n",
    "print w"
   ]
  },
  {
   "cell_type": "code",
   "execution_count": 21,
   "metadata": {
    "collapsed": false
   },
   "outputs": [
    {
     "data": {
      "image/png": "[encoded data removed]",
      "text/plain": [
       "<matplotlib.figure.Figure at 0x111a06250>"
      ]
     },
     "metadata": {},
     "output_type": "display_data"
    },
    {
     "name": "stdout",
     "output_type": "stream",
     "text": [
      "41105.1166959\n"
     ]
    }
   ],
   "source": [
    "plt.scatter(x_i,funkcija(x_i))\n",
    "plt.scatter(x_i,y_i,color=\"r\")\n",
    "plt.scatter(x_i,dot(w,poly.fit_transform(x_i.T).T),color=\"g\")\n",
    "plt.show()\n",
    "print sklearn.metrics.mean_squared_error(y_i,dot(w,poly.fit_transform(x_i.T).T))"
   ]
  },
  {
   "cell_type": "markdown",
   "metadata": {},
   "source": [
    "### 3. Odabir modela"
   ]
  },
  {
   "cell_type": "markdown",
   "metadata": {},
   "source": [
    "### (a)\n",
    "\n",
    "Na skupu podataka iz zadatka 2 trenirajte pet modela linearne regresije $\\mathcal{H}_d$ različite složenosti, gdje je $d$ stupanj polinoma, $d\\in\\{1,3,5,10,20\\}$. Prikažite na istome grafikonu skup za učenje i funkcije $h_d(\\mathbf{x})$ za svih pet modela (preporučujemo koristiti `plot` unutar `for` petlje). Izračunajte pogrešku učenja svakog od modela.\n",
    "\n",
    "**Q:** Koji model ima najmanju pogrešku učenja i zašto?"
   ]
  },
  {
   "cell_type": "code",
   "execution_count": 22,
   "metadata": {
    "collapsed": false
   },
   "outputs": [
    {
     "name": "stdout",
     "output_type": "stream",
     "text": [
      "Greska modela 1 : 51081.4233916\n",
      "Greska modela 3 : 41105.1166959\n",
      "Greska modela 5 : 40505.9428216\n",
      "Greska modela 10 : 38895.4400124\n",
      "Greska modela 20 : 30317.4266333\n"
     ]
    },
    {
     "data": {
      "image/png": "[encoded data removed]",
      "text/plain": [
       "<matplotlib.figure.Figure at 0x111b19e50>"
      ]
     },
     "metadata": {},
     "output_type": "display_data"
    }
   ],
   "source": [
    "# Vaš kôd ovdje...\n",
    "d = np.array([1,3,5,10,20])\n",
    "plt.scatter(x_i,y_i,color=\"r\")\n",
    "for el in d: \n",
    "    poly = PolynomialFeatures(el)\n",
    "    fi = poly.fit_transform(x_i.T)\n",
    "    w = dot(pinv(fi),y_i)\n",
    "    plt.plot(x_i.T,dot(w,poly.fit_transform(x_i.T).T))\n",
    "    print \"Greska modela\",el,\":\", sklearn.metrics.mean_squared_error(y_i,dot(w,poly.fit_transform(x_i.T).T))\n",
    "plt.show()\n",
    "    \n"
   ]
  },
  {
   "cell_type": "markdown",
   "metadata": {},
   "source": [
    "### (b)"
   ]
  },
  {
   "cell_type": "markdown",
   "metadata": {},
   "source": [
    "Razdvojite skup primjera iz zadatka 2 pomoću funkcije [`cross_validation.train_test_split`](http://scikit-learn.org/stable/modules/generated/sklearn.cross_validation.train_test_split.html#sklearn.cross_validation.train_test_split) na skup za učenja i skup za ispitivanje u omjeru 1:1. Prikažite na jednom grafikonu pogrešku učenja i ispitnu pogrešku za modele polinomijalne regresije $\\mathcal{H}_d$, sa stupnjem polinoma $d$ u rasponu $d\\in\\{1,20\\}$. Radi preciznosti, funkcije $h(\\mathbf{x})$ iscrtajte na cijelom skupu primjera (ali pogrešku generalizacije računajte, naravno, samo na ispitnome skupu). Budući da kvadratna pogreška brzo raste za veće stupnjeve polinoma, umjesto da iscrtate izravno iznose pogrešaka, iscrtajte njihove logaritme.\n",
    "\n",
    "**NB:** Podjela na skupa za učenje i skup za ispitivanje mora za svih pet modela biti identična.\n",
    "\n",
    "**Q:** Je li rezultat u skladu s očekivanjima? Koji biste model odabrali i zašto?\n",
    "\n",
    "**Q:** Pokrenite iscrtavanje više puta. U čemu je problem? Bi li problem bio jednako izražen kad bismo imali više primjera? Zašto?"
   ]
  },
  {
   "cell_type": "code",
   "execution_count": 23,
   "metadata": {
    "collapsed": false
   },
   "outputs": [],
   "source": [
    "from sklearn import cross_validation"
   ]
  },
  {
   "cell_type": "code",
   "execution_count": 24,
   "metadata": {
    "collapsed": false
   },
   "outputs": [],
   "source": [
    "# Vaš kôd ovdje...\n",
    "#print x_i.T\n",
    "#print y_i\n",
    "x_train,x_test,y_train,y_test = cross_validation.train_test_split(x_i.T,y_i,test_size=0.5,train_size=0.5)\n"
   ]
  },
  {
   "cell_type": "code",
   "execution_count": 25,
   "metadata": {
    "collapsed": false
   },
   "outputs": [
    {
     "name": "stdout",
     "output_type": "stream",
     "text": [
      "x ucenje -> [[ 3.97959184]\n",
      " [-4.18367347]\n",
      " [-0.30612245]\n",
      " [ 0.91836735]\n",
      " [ 3.7755102 ]\n",
      " [-2.14285714]\n",
      " [-0.10204082]\n",
      " [-2.95918367]\n",
      " [ 2.14285714]\n",
      " [ 2.75510204]\n",
      " [-5.        ]\n",
      " [-0.71428571]\n",
      " [-2.55102041]\n",
      " [-0.51020408]\n",
      " [ 0.71428571]\n",
      " [-1.32653061]\n",
      " [ 0.30612245]\n",
      " [ 3.57142857]\n",
      " [ 3.16326531]\n",
      " [-2.75510204]\n",
      " [-2.34693878]\n",
      " [-3.57142857]\n",
      " [-3.16326531]\n",
      " [ 1.73469388]\n",
      " [-0.91836735]]\n",
      "x test -> [[-3.36734694]\n",
      " [ 2.95918367]\n",
      " [-1.12244898]\n",
      " [-1.93877551]\n",
      " [ 1.93877551]\n",
      " [-3.97959184]\n",
      " [ 1.53061224]\n",
      " [ 0.10204082]\n",
      " [-4.3877551 ]\n",
      " [ 5.        ]\n",
      " [-4.79591837]\n",
      " [ 4.79591837]\n",
      " [-1.73469388]\n",
      " [ 3.36734694]\n",
      " [ 2.34693878]\n",
      " [ 2.55102041]\n",
      " [-1.53061224]\n",
      " [ 1.32653061]\n",
      " [ 4.3877551 ]\n",
      " [ 4.59183673]\n",
      " [-3.7755102 ]\n",
      " [ 4.18367347]\n",
      " [ 0.51020408]\n",
      " [-4.59183673]\n",
      " [ 1.12244898]]\n",
      "y ucenje -> [-391.68014322  549.04814179  446.55050438   65.97378108 -271.30628578\n",
      "   77.5240186   122.27980102  254.43357167  -37.02187665 -200.0848407\n",
      "  578.38115863  -70.0355902  -125.64316134  -96.50244137  -66.73376883\n",
      "  -48.37605191 -516.97112524 -279.89876914 -621.97043073 -149.112873\n",
      "   17.78141884  435.05708411  -61.8331911    40.47411901  -55.92093922]\n",
      "y test -> [ 276.6746104  -135.84352929  102.84276527  527.62895548  209.25676743\n",
      "  287.40219557 -300.94197818  378.12429656  216.02302236 -670.05089643\n",
      "  705.79699229 -536.43455564  -83.17936085   83.74456033  172.75037995\n",
      " -230.68923779 -254.5616671   256.26474007 -285.83594399 -227.3315805\n",
      "  283.43017977 -546.86641987    1.52381978  381.01293928   67.23072682]\n"
     ]
    }
   ],
   "source": [
    "print \"x ucenje ->\" , x_train\n",
    "print \"x test ->\",x_test \n",
    "print \"y ucenje ->\", y_train\n",
    "print \"y test ->\" , y_test"
   ]
  },
  {
   "cell_type": "code",
   "execution_count": 26,
   "metadata": {
    "collapsed": false
   },
   "outputs": [
    {
     "name": "stdout",
     "output_type": "stream",
     "text": [
      "(25, 1)\n",
      "(25, 1)\n",
      "(25,)\n",
      "(25,)\n"
     ]
    }
   ],
   "source": [
    "print np.shape(x_train)\n",
    "print np.shape(x_test)\n",
    "print np.shape(y_train)\n",
    "print np.shape(y_test)"
   ]
  },
  {
   "cell_type": "code",
   "execution_count": 27,
   "metadata": {
    "collapsed": false
   },
   "outputs": [
    {
     "name": "stdout",
     "output_type": "stream",
     "text": [
      "Greska modela na primjerima za ucenje 1 : 45987.5938967\n",
      "Greska modela na primjerima za tesitranje 1 : 61507.9691752\n",
      "Greska modela na primjerima za ucenje 3 : 36898.9332324\n",
      "Greska modela na primjerima za tesitranje 3 : 58065.2916323\n",
      "Greska modela na primjerima za ucenje 5 : 33498.4774469\n",
      "Greska modela na primjerima za tesitranje 5 : 140134.278171\n",
      "Greska modela na primjerima za ucenje 10 : 26694.9594314\n",
      "Greska modela na primjerima za tesitranje 10 : 54640573.3066\n",
      "Greska modela na primjerima za ucenje 20 : 13760.0327334\n",
      "Greska modela na primjerima za tesitranje 20 : 4.03192910421e+15\n"
     ]
    },
    {
     "data": {
      "image/png": "[encoded data removed]",
      "text/plain": [
       "<matplotlib.figure.Figure at 0x111c000d0>"
      ]
     },
     "metadata": {},
     "output_type": "display_data"
    }
   ],
   "source": [
    "learn_error = np.array([])\n",
    "test_error = np.array([])\n",
    "for el in d: \n",
    "    poly = PolynomialFeatures(el)\n",
    "    fi = poly.fit_transform(x_train)\n",
    "    w = dot(pinv(fi),y_train)\n",
    "    l_err = sklearn.metrics.mean_squared_error(y_train,dot(w,poly.fit_transform(x_train).T))\n",
    "    t_err = sklearn.metrics.mean_squared_error(y_test,dot(w,poly.fit_transform(x_test).T))\n",
    "    print \"Greska modela na primjerima za ucenje\",el,\":\", l_err\n",
    "    print \"Greska modela na primjerima za tesitranje\",el,\":\",t_err\n",
    "    learn_error = np.append(learn_error,[l_err])\n",
    "    test_error = np.append(test_error,[t_err])\n",
    "plt.plot(d,learn_error)\n",
    "plt.plot(d,test_error)\n",
    "plt.yscale('log')\n",
    "plt.show()"
   ]
  },
  {
   "cell_type": "markdown",
   "metadata": {},
   "source": [
    "### (c)"
   ]
  },
  {
   "cell_type": "markdown",
   "metadata": {},
   "source": [
    "Točnost modela ovisi o (1) njegovoj složenosti (stupanj $d$ polinoma), (2) broju primjera $N$, i (3) količini šuma. Kako biste to analizirali, nacrtajte grafikone pogrešaka kao u 3b, ali za sve kombinacija broja primjera $N\\in\\{100,200,1000\\}$ i količine šuma $\\sigma\\in\\{100,200,500\\}$ (ukupno 9 grafikona). Upotrijebite funkciju [`subplots`](http://matplotlib.org/examples/pylab_examples/subplots_demo.html) kako biste pregledno posložili grafikone u tablicu $3\\times 3$. Podatci se generiraju na isti način kao u zadatku 2.\n",
    "\n",
    "**NB:** Pobrinite se da svi grafikoni budu generirani nad usporedivim skupovima podataka, na sljedeći način. Generirajte najprije svih 1000 primjera, podijelite ih na skupove za učenje i skupove za ispitivanje (dva skupa od po 500 primjera). Zatim i od skupa za učenje i od skupa za ispitivanje načinite tri različite verzije, svaka s drugačijom količinom šuma (ukupno 2x3=6 verzija podataka). Kako bi simulirali veličinu skupa podataka, od tih dobivenih 6 skupova podataka uzorkujte trećinu, dvije trećine i sve podatke. Time ste dobili 18 skupova podataka -- skup za učenje i za testiranje za svaki od devet grafova."
   ]
  },
  {
   "cell_type": "markdown",
   "metadata": {},
   "source": [
    "***Q:*** Jesu li rezultati očekivani? Obrazložite."
   ]
  },
  {
   "cell_type": "code",
   "execution_count": 28,
   "metadata": {
    "collapsed": false
   },
   "outputs": [],
   "source": [
    "def learn_test(x_train,y_train,x_test,y_test):\n",
    "    learn_error = np.array([])\n",
    "    test_error = np.array([])\n",
    "    d = np.array([1,3,5,10,20])\n",
    "    #print np.shape(x_train)\n",
    "    #print np.shape(y_train)\n",
    "    for el in d: \n",
    "        poly = PolynomialFeatures(el)\n",
    "        fi_train = poly.fit_transform(x_train)\n",
    "        fi_test = poly.fit_transform(x_test)\n",
    "        w = dot(pinv(fi_train),y_train)\n",
    "        l_err = sklearn.metrics.mean_squared_error(y_train,dot(w,poly.fit_transform(x_train).T))\n",
    "        t_err = sklearn.metrics.mean_squared_error(y_test,dot(w,poly.fit_transform(x_test).T))\n",
    "        learn_error = np.append(learn_error,[l_err])\n",
    "        test_error = np.append(test_error,[t_err])\n",
    "        #print np.shape(w)\n",
    "        h_train = dot(w.T,fi_train.T).T\n",
    "        h_test = dot(w.T,fi_test.T).T\n",
    "        x_axis = sorted(np.vstack([x_train,x_test]))\n",
    "        #print np.shape(x_axis)\n",
    "        fi = poly.fit_transform(x_axis)\n",
    "        y_axis = dot(w.T,fi.T).T\n",
    "        #plt.plot(x_axis,y_axis)\n",
    "    plt.yscale('log')\n",
    "    plt.plot(d,learn_error)\n",
    "    plt.plot(d,test_error)\n",
    "        \n",
    "        "
   ]
  },
  {
   "cell_type": "code",
   "execution_count": 29,
   "metadata": {
    "collapsed": false,
    "scrolled": true
   },
   "outputs": [
    {
     "data": {
      "image/png": "[encoded data removed]",
      "text/plain": [
       "<matplotlib.figure.Figure at 0x11197ff10>"
      ]
     },
     "metadata": {},
     "output_type": "display_data"
    }
   ],
   "source": [
    "# Vaš kôd ovdje...\n",
    "x = np.array(np.linspace(-5,5,1000))[np.newaxis].T\n",
    "x_train, x_test = cross_validation.train_test_split(x,test_size=0.5)\n",
    "y_train=[make_labels(x_train,noise=mean) for mean in [100,200,500]]\n",
    "#print np.shape(y_train)\n",
    "y_test =[make_labels(x_test,noise=mean) for mean in [100,200,500]]\n",
    "#print np.shape(y_test)\n",
    "DATA =list()\n",
    "for Ni in zip([100,200,1000]*3,[0,0,0,1,1,1,2,2,2]):\n",
    "    X1,_,Y1,_=cross_validation.train_test_split(x_train,y_train[Ni[1]],test_size=1-Ni[0]/1000.0,random_state=0)\n",
    "    X2,_,Y2,_=cross_validation.train_test_split(x_test,y_test[Ni[1]],test_size=1-Ni[0]/1000.0,random_state=0)\n",
    "    DATA.append((X1,X2,Y1,Y2))\n",
    "i=1\n",
    "DATA_E = list()\n",
    "for x_train,x_test,y_train,y_test in DATA:\n",
    "    plt.subplot(3,3,i)\n",
    "    #plt.scatter(x_train,y_train)\n",
    "    learn_test(x_train,y_train,x_test,y_test)\n",
    "    i+=1\n",
    "plt.show()"
   ]
  },
  {
   "cell_type": "markdown",
   "metadata": {},
   "source": [
    "### 4. Regularizirana regresija"
   ]
  },
  {
   "cell_type": "markdown",
   "metadata": {},
   "source": [
    "### (a)\n",
    "\n",
    "U gornjim eksperimentima nismo koristili **regularizaciju**. Vratimo se najprije na primjer iz zadatka 1. Na primjerima iz tog zadatka izračunajte težine $\\mathbf{w}$ za polinomijalni regresijski model stupnja $d=3$ uz L2-regularizaciju (tzv. *ridge regression*), prema izrazu $\\mathbf{w}=(\\mathbf{\\Phi}^\\intercal\\mathbf{\\Phi}+\\lambda\\mathbf{I})^{-1}\\mathbf{\\Phi}^\\intercal\\mathbf{y}$. Napravite izračun težina za regularizacijske faktore $\\lambda=0$, $\\lambda=1$ i $\\lambda=10$ te usporedite dobivene težine.\n",
    "\n",
    "**Q:** Kojih je dimenzija matrica koju treba invertirati?\n",
    "\n",
    "**Q:** Po čemu se razlikuju dobivene težine i je li ta razlika očekivana? Obrazložite."
   ]
  },
  {
   "cell_type": "code",
   "execution_count": 30,
   "metadata": {
    "collapsed": false
   },
   "outputs": [],
   "source": [
    "# Vaš kôd ovdje...\n",
    "X = np.array([[0],[1],[2],[4]])\n",
    "y = np.array([4,1,2,5])"
   ]
  },
  {
   "cell_type": "code",
   "execution_count": 30,
   "metadata": {
    "collapsed": false
   },
   "outputs": [
    {
     "data": {
      "text/plain": [
       "[array([ 4.        , -5.91666667,  3.375     , -0.45833333]),\n",
       " array([ 1.79567372, -0.24729075, -0.0175289 ,  0.07014758]),\n",
       " array([ 0.43312265,  0.11060671,  0.13827839,  0.03093411])]"
      ]
     },
     "execution_count": 30,
     "metadata": {},
     "output_type": "execute_result"
    }
   ],
   "source": [
    "poly = PolynomialFeatures(3)\n",
    "fi = poly.fit_transform(X)\n",
    "I = np.identity(4)\n",
    "w = [dot(dot(inv(dot(fi.T,fi)+lamda*I),fi.T),y) for lamda in [0,1,10]]\n",
    "w\n"
   ]
  },
  {
   "cell_type": "markdown",
   "metadata": {},
   "source": [
    "### (b)"
   ]
  },
  {
   "cell_type": "markdown",
   "metadata": {},
   "source": [
    "Proučite klasu [`Ridge`](http://scikit-learn.org/stable/modules/generated/sklearn.linear_model.Ridge.html#sklearn.linear_model.Ridge) iz modula [`sklearn.linear_model`](http://scikit-learn.org/stable/modules/classes.html#module-sklearn.linear_model), koja implementira L2-regularizirani regresijski model. Parametar $\\alpha$ odgovara parametru $\\lambda$. Primijenite model na istim primjerima kao u prethodnom zadatku i ispišite težine $\\mathbf{w}$ (atributi `coef_` i `intercept_`).\n",
    "\n",
    "**Q:** Jesu li težine identične onima iz zadatka 4a? Ako nisu, objasnite zašto je to tako i kako biste to popravili."
   ]
  },
  {
   "cell_type": "code",
   "execution_count": 32,
   "metadata": {
    "collapsed": false
   },
   "outputs": [],
   "source": [
    "from sklearn.linear_model import Ridge"
   ]
  },
  {
   "cell_type": "code",
   "execution_count": 33,
   "metadata": {
    "collapsed": false
   },
   "outputs": [
    {
     "name": "stdout",
     "output_type": "stream",
     "text": [
      "4.0 [-5.91666667  3.375      -0.45833333]\n",
      "3.05696145125 [-0.69079365 -0.2831746   0.1445805 ]\n",
      "2.49444184312 [-0.15897295 -0.13423067  0.0815601 ]\n"
     ]
    }
   ],
   "source": [
    "# Vaš kôd ovdje...\n",
    "for lamda in [0,1,10]:\n",
    "    clf = Ridge(lamda)\n",
    "    #print clf\n",
    "    clf.fit(fi,y)\n",
    "    print clf.intercept_,clf.coef_[1:]\n"
   ]
  },
  {
   "cell_type": "markdown",
   "metadata": {},
   "source": [
    "### 5. Regularizirana polinomijalna regresija"
   ]
  },
  {
   "cell_type": "markdown",
   "metadata": {},
   "source": [
    "### (a)\n",
    "\n",
    "Vratimo se na slučaj $N=50$ slučajno generiranih primjera iz zadatka 2. Trenirajte modele polinomijalne regresije $\\mathcal{H}_{\\lambda,d}$ za $\\lambda\\in\\{0,100\\}$ i $d\\in\\{2,10\\}$ (ukupno četiri modela). Skicirajte pripadne funkcije $h(\\mathbf{x})$ i primjere (na jednom grafikonu; preporučujemo koristiti `plot` unutar `for` petlje).\n",
    "\n",
    "**Q:** Jesu li rezultati očekivani? Obrazložite."
   ]
  },
  {
   "cell_type": "code",
   "execution_count": 34,
   "metadata": {
    "collapsed": false
   },
   "outputs": [
    {
     "data": {
      "image/png": "[encoded data removed]",
      "text/plain": [
       "<matplotlib.figure.Figure at 0x1120c0350>"
      ]
     },
     "metadata": {},
     "output_type": "display_data"
    }
   ],
   "source": [
    "# Vaš kôd ovdje...\n",
    "xspace = np.linspace(-5,5,50)[np.newaxis].T\n",
    "y = make_labels(xspace,noise=200)\n",
    "for lamda in [0,100]:\n",
    "    for d in [2,10]:\n",
    "        poly = PolynomialFeatures(d)\n",
    "        clf = Ridge(lamda)\n",
    "        fi = poly.fit_transform(xspace)\n",
    "        clf.fit(fi,y)\n",
    "        w = clf.coef_\n",
    "        h = dot(w,fi.T)\n",
    "        plt.scatter(xspace,y)\n",
    "        plt.plot(xspace,h)\n",
    "plt.show()    "
   ]
  },
  {
   "cell_type": "markdown",
   "metadata": {},
   "source": [
    "### (b)\n",
    "\n",
    "Kao u zadataku 3b, razdvojite primjere na skup za učenje i skup za ispitivanje u omjeru 1:1. Prikažite krivulje logaritama pogreške učenja i ispitne pogreške u ovisnosti za model $\\mathcal{H}_{d=20,\\lambda}$, podešavajući faktor regularizacije $\\lambda$ u rasponu $\\lambda\\in\\{0,1,\\dots,50\\}$.\n",
    "\n",
    "**Q:** Kojoj strani na grafikonu odgovara područje prenaučenosti a kojoj podnaučenosti. Zašto?\n",
    "\n",
    "**Q:** Koju biste vrijednosti za $\\lambda$ izabrali na temelju ovih grafikona i zašto?\n"
   ]
  },
  {
   "cell_type": "code",
   "execution_count": 35,
   "metadata": {
    "collapsed": false
   },
   "outputs": [
    {
     "data": {
      "image/png": "[encoded data removed]",
      "text/plain": [
       "<matplotlib.figure.Figure at 0x115108c10>"
      ]
     },
     "metadata": {},
     "output_type": "display_data"
    }
   ],
   "source": [
    "# Vaš kôd ovdje...\n",
    "learn_error=np.array([])\n",
    "test_error=np.array([])\n",
    "x_test,x_train,y_test,y_train = cross_validation.train_test_split(xspace,y,test_size=0.5)\n",
    "for lamda in range(0,50,1):\n",
    "    poly = PolynomialFeatures(20)\n",
    "    clf = Ridge(lamda)\n",
    "    fi = poly.fit_transform(x_train)\n",
    "    clf.fit(fi,y_train)\n",
    "    w = clf.coef_\n",
    "    h = dot(w,fi.T)\n",
    "    l_err = sklearn.metrics.mean_squared_error(y_train,dot(w,poly.fit_transform(x_train).T))\n",
    "    t_err = sklearn.metrics.mean_squared_error(y_test,dot(w,poly.fit_transform(x_test).T))\n",
    "    #print \"Greska modela na primjerima za ucenje\",el,\":\", l_err\n",
    "    #print \"Greska modela na primjerima za tesitranje\",el,\":\",t_err\n",
    "    learn_error = np.append(learn_error,[l_err])\n",
    "    test_error = np.append(test_error,[t_err])\n",
    "lam = np.array([])\n",
    "for lamda in range(0,50,1):\n",
    "    lam = np.append(lam,lamda)\n",
    "plt.yscale('log')\n",
    "plt.plot(lam,learn_error)\n",
    "plt.plot(lam,test_error)\n",
    "plt.show()  "
   ]
  },
  {
   "cell_type": "markdown",
   "metadata": {},
   "source": [
    "### 6. L1-regularizacija i L2-regularizacija"
   ]
  },
  {
   "cell_type": "markdown",
   "metadata": {},
   "source": [
    "Svrha regularizacije jest potiskivanje težina modela $\\mathbf{w}$ prema nuli, kako bi model bio što jednostavniji. Složenost modela može se okarakterizirati normom pripadnog vektora težina $\\mathbf{w}$, i to tipično L2-normom ili L1-normom. Za jednom trenirani model možemo izračunati i broj ne-nul značajki, ili L0-normu, pomoću sljedeće funkcije:"
   ]
  },
  {
   "cell_type": "code",
   "execution_count": 36,
   "metadata": {
    "collapsed": false
   },
   "outputs": [],
   "source": [
    "def nonzeroes(coef, tol=1e-6): \n",
    "    return len(coef) - len(coef[sp.isclose(0, coef, atol=tol)])\n",
    "def L1(coef):\n",
    "    return sum(abs(el) for el in coef)\n",
    "def L2(coef):\n",
    "    return sum(el**2 for el in coef)**0.5"
   ]
  },
  {
   "cell_type": "markdown",
   "metadata": {},
   "source": [
    "### (a)\n",
    "\n",
    "Za ovaj zadatak upotrijebite skup za učenje i skup za testiranje iz zadatka 3b. Trenirajte modele **L2-regularizirane** polinomijalne regresije stupnja $d=20$, mijenjajući hiperparametar $\\lambda$ u rasponu $\\{1,2,\\dots,100\\}$. Za svaki od treniranih modela izračunajte L{0,1,2}-norme vektora težina $\\mathbf{w}$ te ih prikažite kao funkciju od $\\lambda$.\n",
    "\n",
    "**Q:** Objasnite oblik obiju krivulja. Hoće li krivulja za $\\|\\mathbf{w}\\|_2$ doseći nulu? Zašto? Je li to problem? Zašto?\n",
    "\n",
    "**Q:** Za $\\lambda=100$, koliki je postotak težina modela jednak nuli, odnosno koliko je model rijedak?"
   ]
  },
  {
   "cell_type": "code",
   "execution_count": 37,
   "metadata": {
    "collapsed": false
   },
   "outputs": [
    {
     "data": {
      "image/png": "[encoded data removed]",
      "text/plain": [
       "<matplotlib.figure.Figure at 0x11209b590>"
      ]
     },
     "metadata": {},
     "output_type": "display_data"
    }
   ],
   "source": [
    "# Vaš kôd ovdje...\n",
    "X = np.linspace(-5,5,50)[np.newaxis].T\n",
    "y = make_labels(xspace,noise=200)\n",
    "fi = poly.fit_transform(X)\n",
    "l_0 = list()\n",
    "l_1 = list()\n",
    "l_2 = list()\n",
    "lamdas = range(1,101,1)\n",
    "for lamda in lamdas:\n",
    "    linmod = sklearn.linear_model.Ridge(alpha=lamda)\n",
    "    linmod.fit(fi,y)\n",
    "    l_0.append(nonzeroes(np.matrix(linmod.coef_).getA1()))\n",
    "    l_1.append(L1(np.matrix(linmod.coef_).getA1()))\n",
    "    l_2.append(L2(np.matrix(linmod.coef_).getA1()))\n",
    "plt.plot(lamdas,l_0)\n",
    "plt.plot(lamdas,l_1)\n",
    "plt.plot(lamdas,l_2)\n",
    "plt.show()\n",
    "               "
   ]
  },
  {
   "cell_type": "markdown",
   "metadata": {},
   "source": [
    "### (b)"
   ]
  },
  {
   "cell_type": "markdown",
   "metadata": {},
   "source": [
    "Glavna prednost L1-regularizirane regresije (ili *LASSO regression*) nad L2-regulariziranom regresijom jest u tome što L1-regularizirana regresija rezultira **rijetkim modelima** (engl. *sparse models*), odnosno modelima kod kojih su mnoge težine pritegnute na nulu. Pokažite da je to doista tako, ponovivši gornji eksperiment s **L1-regulariziranom** regresijom, implementiranom u klasi  [`Lasso`](http://scikit-learn.org/stable/modules/generated/sklearn.linear_model.Lasso.html) u modulu [`sklearn.linear_model`](http://scikit-learn.org/stable/modules/classes.html#module-sklearn.linear_model)."
   ]
  },
  {
   "cell_type": "code",
   "execution_count": 38,
   "metadata": {
    "collapsed": false
   },
   "outputs": [
    {
     "name": "stderr",
     "output_type": "stream",
     "text": [
      "/Users/marinkostic/anaconda2/lib/python2.7/site-packages/sklearn/linear_model/coordinate_descent.py:466: ConvergenceWarning: Objective did not converge. You might want to increase the number of iterations\n",
      "  ConvergenceWarning)\n"
     ]
    },
    {
     "data": {
      "image/png": "[encoded data removed]",
      "text/plain": [
       "<matplotlib.figure.Figure at 0x1141ae750>"
      ]
     },
     "metadata": {},
     "output_type": "display_data"
    }
   ],
   "source": [
    "# Vaš kôd ovdje...\n",
    "l0 = list()\n",
    "l1=list()\n",
    "l2=list()\n",
    "for lamda in lamdas:\n",
    "    lasso = sklearn.linear_model.Lasso(lamda)\n",
    "    lasso.fit(fi,y)\n",
    "    l0.append(nonzeroes(np.matrix(lasso.coef_).getA1()))\n",
    "    l1.append(L1(np.matrix(lasso.coef_).getA1()))\n",
    "    l2.append(L2(np.matrix(lasso.coef_).getA1()))\n",
    "plt.plot(lamdas,l0)\n",
    "plt.plot(lamdas,l1)\n",
    "plt.plot(lamdas,l2)\n",
    "plt.show()"
   ]
  },
  {
   "cell_type": "markdown",
   "metadata": {},
   "source": [
    "### 7. Predviđanje cijena nekretnina u Bostonu"
   ]
  },
  {
   "cell_type": "markdown",
   "metadata": {},
   "source": [
    "Do sada smo razmatrali isključivo univarijatnu regresiju, tj. imali smo samo jednu značajku ($n=1$). U većini stvarnih problema baratamo s većim brojem značajki. Razmotrimo sada jedan nešto realniji problem, kod kojega postoji više značajki, pa je potrebno napraviti multivarijatnu regresiju.\n",
    "\n",
    "Učitajte skup podataka *Boston House Prices*:"
   ]
  },
  {
   "cell_type": "code",
   "execution_count": 49,
   "metadata": {
    "collapsed": false
   },
   "outputs": [
    {
     "name": "stdout",
     "output_type": "stream",
     "text": [
      "(506, 13)\n",
      "(506,)\n"
     ]
    }
   ],
   "source": [
    "from sklearn.datasets import load_boston\n",
    "boston = load_boston()\n",
    "print boston.data.shape\n",
    "print boston.target.shape"
   ]
  },
  {
   "cell_type": "markdown",
   "metadata": {},
   "source": [
    "Skup sadrži 506 primjera sa 13 numeričkih značajki. Opis skupa možete dobiti na sljedeći način:"
   ]
  },
  {
   "cell_type": "code",
   "execution_count": 50,
   "metadata": {
    "collapsed": false
   },
   "outputs": [
    {
     "name": "stdout",
     "output_type": "stream",
     "text": [
      "Boston House Prices dataset\n",
      "\n",
      "Notes\n",
      "------\n",
      "Data Set Characteristics:  \n",
      "\n",
      "    :Number of Instances: 506 \n",
      "\n",
      "    :Number of Attributes: 13 numeric/categorical predictive\n",
      "    \n",
      "    :Median Value (attribute 14) is usually the target\n",
      "\n",
      "    :Attribute Information (in order):\n",
      "        - CRIM     per capita crime rate by town\n",
      "        - ZN       proportion of residential land zoned for lots over 25,000 sq.ft.\n",
      "        - INDUS    proportion of non-retail business acres per town\n",
      "        - CHAS     Charles River dummy variable (= 1 if tract bounds river; 0 otherwise)\n",
      "        - NOX      nitric oxides concentration (parts per 10 million)\n",
      "        - RM       average number of rooms per dwelling\n",
      "        - AGE      proportion of owner-occupied units built prior to 1940\n",
      "        - DIS      weighted distances to five Boston employment centres\n",
      "        - RAD      index of accessibility to radial highways\n",
      "        - TAX      full-value property-tax rate per $10,000\n",
      "        - PTRATIO  pupil-teacher ratio by town\n",
      "        - B        1000(Bk - 0.63)^2 where Bk is the proportion of blacks by town\n",
      "        - LSTAT    % lower status of the population\n",
      "        - MEDV     Median value of owner-occupied homes in $1000's\n",
      "\n",
      "    :Missing Attribute Values: None\n",
      "\n",
      "    :Creator: Harrison, D. and Rubinfeld, D.L.\n",
      "\n",
      "This is a copy of UCI ML housing dataset.\n",
      "http://archive.ics.uci.edu/ml/datasets/Housing\n",
      "\n",
      "\n",
      "This dataset was taken from the StatLib library which is maintained at Carnegie Mellon University.\n",
      "\n",
      "The Boston house-price data of Harrison, D. and Rubinfeld, D.L. 'Hedonic\n",
      "prices and the demand for clean air', J. Environ. Economics & Management,\n",
      "vol.5, 81-102, 1978.   Used in Belsley, Kuh & Welsch, 'Regression diagnostics\n",
      "...', Wiley, 1980.   N.B. Various transformations are used in the table on\n",
      "pages 244-261 of the latter.\n",
      "\n",
      "The Boston house-price data has been used in many machine learning papers that address regression\n",
      "problems.   \n",
      "     \n",
      "**References**\n",
      "\n",
      "   - Belsley, Kuh & Welsch, 'Regression diagnostics: Identifying Influential Data and Sources of Collinearity', Wiley, 1980. 244-261.\n",
      "   - Quinlan,R. (1993). Combining Instance-Based and Model-Based Learning. In Proceedings on the Tenth International Conference of Machine Learning, 236-243, University of Massachusetts, Amherst. Morgan Kaufmann.\n",
      "   - many more! (see http://archive.ics.uci.edu/ml/datasets/Housing)\n",
      "\n"
     ]
    }
   ],
   "source": [
    "print boston.DESCR"
   ]
  },
  {
   "cell_type": "markdown",
   "metadata": {},
   "source": [
    "### (a)"
   ]
  },
  {
   "cell_type": "markdown",
   "metadata": {},
   "source": [
    "Vaš je zadatak da izgradite regresijski model za predviđanje cijene nekretnine (`y=boston.target`) na temelju 13 raspoloživih značajki za svaku nekretninu (`X=boston.data`). Cilj je pronaći najbolji mogući linearni model regresije na ovom skupu podataka i provjeriti njegovu točnost u smislu pogreške kvadratnog odstupanja ([`mean_squared_error`]( http://scikit-learn.org/stable/modules/generated/sklearn.metrics.mean_squared_error.html#sklearn.metrics.mean_squared_error)). \n",
    "\n",
    "Hiperparametri modela koje treba isprobati su:\n",
    "\n",
    "* **Regularizacija:** Bez regularizacije ([`LinearRegression`](http://scikit-learn.org/stable/modules/generated/sklearn.linear_model.LinearRegression.html#sklearn.linear_model.LinearRegression)), L2-regularizacija ([`Ridge`](http://scikit-learn.org/stable/modules/generated/sklearn.linear_model.Ridge.html#sklearn.linear_model.Ridge)) i L1-regularizacija ([`Lasso`](http://scikit-learn.org/stable/modules/generated/sklearn.linear_model.Lasso.html#sklearn.linear_model.Lasso));\n",
    "* **Značajke:** Izvornih 13 značajki, polinomijalne značajke (isprobajte različite stupnjeve polinoma $d$), samo interakcijske značajke (opcija `interaction_only` u klasi [`PolynomialFeatures`](http://scikit-learn.org/stable/modules/generated/sklearn.preprocessing.PolynomialFeatures.html));\n",
    "\n",
    "Kao i inače, za odabir i ispitivanje modela koristit ćemo **unakrsnu provjeru** (engl. *cross-validation*). Skup primjera za učenje podijelit ćemo na **skup za učenje**, **skup za provjeru** i **skup za ispitivanje** u omjeru (otprilike) 3:1:1. Kao u uvijek, model trebate trenirati na skupu za učenje, odabir modela (odnosno optimizaciju hiperparametra) trebate provesti na skupu za provjeru, a konačno vrednovanje modela trebate načiniti na skupu za ispitivanje. Konačno vrednovanje radite samo jednom, za model koji ste na skupu za provjeru odabrali kao optimalan.\n",
    "\n",
    "**NB:** Nakon što odaberete optimalan model na skupu za provjeru, prije konačnog ispitivanja odabrani model ponovno trenirajte na uniji skupova za učenje i provjeru. Na taj način iskorištavate maksimalno iskorištavate dostupne podatke i model će u pravilu biti bolji.\n",
    "\n",
    "Podjela na skup za učenje, provjeru i ispitivanje u ovom je slučaju fiksna kako bi svi imali identične skupove i kako bi rezultati bili usporedivi. (U stvarnosti biste ovakav eksperiment radili malo drugačije: koristili biste višestruku unakrsnu provjeru ili ugnježđenu unakrsnu provjeru. Više o tome u budućim vježbama.) \n",
    "\n",
    "Koristite sljedeće skupove:"
   ]
  },
  {
   "cell_type": "code",
   "execution_count": 51,
   "metadata": {
    "collapsed": false
   },
   "outputs": [
    {
     "name": "stdout",
     "output_type": "stream",
     "text": [
      "(303, 13) (101, 13) (102, 13)\n"
     ]
    }
   ],
   "source": [
    "from sklearn import cross_validation\n",
    "X_train, X_rest, y_train, y_rest = cross_validation.train_test_split(boston.data,boston.target,train_size=0.6,random_state=42)\n",
    "X_validate, X_test, y_validate, y_test = cross_validation.train_test_split(X_rest,y_rest,test_size=0.5,random_state=42)\n",
    "print X_train.shape, X_validate.shape ,X_test.shape"
   ]
  },
  {
   "cell_type": "code",
   "execution_count": 52,
   "metadata": {
    "collapsed": false
   },
   "outputs": [
    {
     "name": "stdout",
     "output_type": "stream",
     "text": [
      "LIN REG BEZ REGULARIZACIJE\n",
      "1 4951 24.8797094106\n",
      "_______________________\n",
      "END\n",
      "LIN REG SA REGULARIZACIJOM L2\n",
      "1 1 26.138508318\n",
      "______________________\n",
      "2 1 17.7018210971\n",
      "______________________\n",
      "2 51 13.7755257152\n",
      "______________________\n",
      "2 101 13.501054831\n",
      "______________________\n",
      "2 151 13.4298810287\n",
      "______________________\n",
      "2 201 13.4169847112\n",
      "______________________\n",
      "END\n"
     ]
    }
   ],
   "source": [
    "# Vaše rješenje...\n",
    "# LIN REG BEZ REGULARIZACIJE\n",
    "print \"LIN REG BEZ REGULARIZACIJE\"\n",
    "min_error = 1000\n",
    "for d in [1,2,3]:\n",
    "    poly = sklearn.preprocessing.PolynomialFeatures(d)\n",
    "    X_TRAIN = np.vstack([X_train,X_validate])\n",
    "    Y_TRAIN = np.hstack((y_train,y_validate))\n",
    "    fi = poly.fit_transform(X_TRAIN)\n",
    "    linreg = sklearn.linear_model.LinearRegression()\n",
    "    linreg.fit(fi,Y_TRAIN)\n",
    "    fi_test = poly.fit_transform(X_test)\n",
    "    LINEAR_ERROR = sklearn.metrics.mean_squared_error(y_test,linreg.predict(fi_test))\n",
    "    if min_error > LINEAR_ERROR:\n",
    "            min_error = LINEAR_ERROR\n",
    "            print d , lamda , min_error\n",
    "print \"_______________________\"  \n",
    "print \"END\"\n",
    "# LIN REG SA REGULARIZACIJOM L2\n",
    "print \"LIN REG SA REGULARIZACIJOM L2\"\n",
    "min_error = 1000\n",
    "lamdas = range(1,5000,50)\n",
    "for lamda in lamdas:\n",
    "    linmod = sklearn.linear_model.Ridge(alpha=lamda,fit_intercept=False)\n",
    "    for d in [1,2,3]:\n",
    "        poly = sklearn.preprocessing.PolynomialFeatures(d)\n",
    "        X_TRAIN = np.vstack([X_train,X_validate])\n",
    "        Y_TRAIN = np.hstack((y_train,y_validate))\n",
    "        fi = poly.fit_transform(X_TRAIN)\n",
    "        fi_test = poly.fit_transform(X_test)\n",
    "        linmod.fit(fi,Y_TRAIN)\n",
    "        REG_ERROR = sklearn.metrics.mean_squared_error(y_test,linmod.predict(fi_test))\n",
    "        if min_error > REG_ERROR:\n",
    "            min_error = REG_ERROR\n",
    "            print d , lamda , min_error\n",
    "            print \"______________________\"\n",
    "print \"END\""
   ]
  },
  {
   "cell_type": "code",
   "execution_count": 53,
   "metadata": {
    "collapsed": false
   },
   "outputs": [
    {
     "name": "stdout",
     "output_type": "stream",
     "text": [
      "LIN REG SA REGULARIZACIJOM L1\n",
      "1 1 31.5111403091\n",
      "_______________\n",
      "2 1 12.4520238492\n",
      "_______________\n",
      "3 151 12.2082052643\n",
      "_______________\n",
      "3 201 12.2025167907\n",
      "_______________\n",
      "3 251 12.092274087\n",
      "_______________\n",
      " END \n"
     ]
    }
   ],
   "source": [
    "# LIN REG SA REGULARIZACIJOM L1\n",
    "print \"LIN REG SA REGULARIZACIJOM L1\"\n",
    "min_error = 1000\n",
    "for lamda in lamdas:\n",
    "    lasso = sklearn.linear_model.Lasso(lamda,fit_intercept=False)\n",
    "    for d in [1,2,3]:\n",
    "        poly = sklearn.preprocessing.PolynomialFeatures(d)\n",
    "        X_TRAIN = np.vstack([X_train,X_validate])\n",
    "        Y_TRAIN = np.hstack((y_train,y_validate))\n",
    "        fi = poly.fit_transform(X_TRAIN)\n",
    "        fi_test = poly.fit_transform(X_test)\n",
    "        lasso.fit(fi,Y_TRAIN)\n",
    "        L1_ERROR = sklearn.metrics.mean_squared_error(y_test,lasso.predict(fi_test))\n",
    "        if min_error > L1_ERROR:\n",
    "            min_error = L1_ERROR\n",
    "            print d , lamda , min_error\n",
    "            print \"_______________\"\n",
    "print \" END \""
   ]
  },
  {
   "cell_type": "markdown",
   "metadata": {},
   "source": [
    "**Q:** Koliko značajki ima svaki od modela koji ste isprobali?\n",
    "\n",
    "**Q:** Provjerite točnost odabranog modela na (1) skupu za učenje, (2) skupu za provjeru, (3) uniji ta dva skupa i (4) skupu za ispitivanje. Jesu li odnosi između točnosti modela na ova četiri skupa očekivana? Obrazložite.\n",
    "\n",
    "**Q:** Kod treniranja regresijskog modela moguće je postaviti `fit_intercept=False`, čime se izbjegava optimiranje težine $w_0$. Trenirajte odabrani model s tom postavkom. Usporedite s točnošću optimalnog modela. Je li rezultat očekivan? Obrazložite. Ima li predobrada značajki ikakvog utjecaja na ovu razliku?"
   ]
  },
  {
   "cell_type": "code",
   "execution_count": null,
   "metadata": {
    "collapsed": true
   },
   "outputs": [],
   "source": []
  }
 ],
 "metadata": {
  "anaconda-cloud": {},
  "kernelspec": {
   "display_name": "Python [Root]",
   "language": "python",
   "name": "Python [Root]"
  },
  "language_info": {
   "codemirror_mode": {
    "name": "ipython",
    "version": 2
   },
   "file_extension": ".py",
   "mimetype": "text/x-python",
   "name": "python",
   "nbconvert_exporter": "python",
   "pygments_lexer": "ipython2",
   "version": "2.7.12"
  }
 },
 "nbformat": 4,
 "nbformat_minor": 0
}
